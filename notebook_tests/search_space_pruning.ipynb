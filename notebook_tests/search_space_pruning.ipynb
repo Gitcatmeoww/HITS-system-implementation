{
 "cells": [
  {
   "cell_type": "code",
   "execution_count": 2,
   "metadata": {},
   "outputs": [],
   "source": [
    "import hnswlib\n",
    "import numpy as np"
   ]
  },
  {
   "cell_type": "code",
   "execution_count": null,
   "metadata": {},
   "outputs": [],
   "source": [
    "# Initialize the HNSW index\n",
    "dim = 128  # Dimensionality of embeddings\n",
    "num_elements = 1000  # Number of elements to index\n",
    "\n",
    "# Declare index\n",
    "p = hnswlib.Index(space='cosine', dim=dim)\n",
    "p.init_index(max_elements=num_elements, ef_construction=200, M=16)\n",
    "\n",
    "# Generate some random embeddings to simulate table data/metadata embeddings\n",
    "np.random.seed(42)  # For reproducibility\n",
    "data_embeddings = np.random.rand(num_elements, dim).astype(np.float32)\n",
    "\n",
    "# Add embeddings to the index\n",
    "ids = np.arange(num_elements)\n",
    "p.add_items(data_embeddings, ids)\n",
    "\n",
    "# Set the ef parameter for queries\n",
    "p.set_ef(50)"
   ]
  }
 ],
 "metadata": {
  "kernelspec": {
   "display_name": "hits",
   "language": "python",
   "name": "python3"
  },
  "language_info": {
   "codemirror_mode": {
    "name": "ipython",
    "version": 3
   },
   "file_extension": ".py",
   "mimetype": "text/x-python",
   "name": "python",
   "nbconvert_exporter": "python",
   "pygments_lexer": "ipython3",
   "version": "3.10.4"
  }
 },
 "nbformat": 4,
 "nbformat_minor": 2
}
